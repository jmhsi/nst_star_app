{
 "cells": [
  {
   "cell_type": "code",
   "execution_count": 1,
   "metadata": {
    "ExecuteTime": {
     "end_time": "2019-01-12T08:15:49.034623Z",
     "start_time": "2019-01-12T08:15:49.007758Z"
    }
   },
   "outputs": [],
   "source": [
    "%reload_ext autoreload\n",
    "%autoreload 2"
   ]
  },
  {
   "cell_type": "markdown",
   "metadata": {
    "heading_collapsed": true
   },
   "source": [
    "# Flask"
   ]
  },
  {
   "cell_type": "code",
   "execution_count": null,
   "metadata": {
    "hidden": true
   },
   "outputs": [],
   "source": [
    "from wtforms import "
   ]
  },
  {
   "cell_type": "code",
   "execution_count": 12,
   "metadata": {
    "ExecuteTime": {
     "end_time": "2019-01-12T02:23:14.160154Z",
     "start_time": "2019-01-12T02:23:14.146806Z"
    },
    "hidden": true
   },
   "outputs": [
    {
     "name": "stdout",
     "output_type": "stream",
     "text": [
      "Overwriting /home/justin/projects/nst_flask_app/deployment/templates/index.html\n"
     ]
    }
   ],
   "source": [
    "%%writefile /home/justin/projects/nst_flask_app/deployment/templates/index.html\n",
    "\n",
    "<!DOCTYPE html>\n",
    "<html>\n",
    "\n",
    "<head>\n",
    "  <title>Neural Style Transfer</title>\n",
    "  <link rel=\"stylesheet\" href=\"/static/css/main.css\">\n",
    "  <link rel=\"shortcut icon\" href=\"/static/images/lstm.ico\">\n",
    "  \n",
    "</head>\n",
    "\n",
    "<body>\n",
    "  <div class=\"container\">\n",
    "    <h1>\n",
    "      <center>Neural Style Transfer</center>\n",
    "    </h1>\n",
    "\n",
    "    {% block content %}\n",
    "    {% for message in form.style.errors %}\n",
    "    <div class=\"flash\">{{ message }}</div>\n",
    "    {% endfor %}\n",
    "\n",
    "    {% for message in form.content.errors %}\n",
    "    <div class=\"flash\">{{ message }}</div>\n",
    "    {% endfor %}\n",
    "\n",
    "    {% for message in form.steps.errors %}\n",
    "    <div class=\"flash\">{{ message }}</div>\n",
    "    {% endfor %}\n",
    "\n",
    "    <form method=post>\n",
    "\n",
    "      {{ form.style.label }}\n",
    "      {{ form.style }}\n",
    "\n",
    "      {{ form.content.label }}\n",
    "      {{ form.content }}\n",
    "\n",
    "      {{ form.steps.label }}\n",
    "      {{ form.steps }}\n",
    "\n",
    "      {{ form.submit }}\n",
    "    </form>\n",
    "    {% endblock %}\n",
    "\n",
    "  </div>\n",
    "</body>\n",
    "\n",
    "</html>"
   ]
  },
  {
   "cell_type": "code",
   "execution_count": 13,
   "metadata": {
    "ExecuteTime": {
     "end_time": "2019-01-12T02:45:14.284484Z",
     "start_time": "2019-01-12T02:45:14.264092Z"
    },
    "hidden": true
   },
   "outputs": [
    {
     "name": "stdout",
     "output_type": "stream",
     "text": [
      "Overwriting /home/justin/projects/nst_flask_app/deployment/nst_app_flask.py\n"
     ]
    }
   ],
   "source": [
    "%%writefile /home/justin/projects/nst_flask_app/deployment/nst_app_flask.py\n",
    "\n",
    "from flask import Flask, render_template, request\n",
    "from wtforms import (Form, FileField, IntegerField, SubmitField, validators)\n",
    "\n",
    "\n",
    "app = Flask(__name__)\n",
    "\n",
    "class ReusableForm(Form):\n",
    "    \"\"\"User entry form for entering specifics for generation\"\"\"\n",
    "    # Style\n",
    "    style = FileField(\"Upload the Style Image\", validators=[\n",
    "                     validators.InputRequired()])\n",
    "    \n",
    "    # Content\n",
    "    content = FileField(\"Upload the Content Image\", validators=[\n",
    "                     validators.InputRequired()])\n",
    "\n",
    "    # Number of steps\n",
    "    steps = IntegerField(\"Enter number of steps\",\n",
    "                         default=110, validators=[validators.InputRequired(),\n",
    "                                                 validators.NumberRange(min=10, max=200, \n",
    "                                                 message='Must be between 10 and 200.')])\n",
    "    # Submit button\n",
    "    submit = SubmitField(\"Transfer Style\")\n",
    "\n",
    "\n",
    "@app.route(\"/\", methods=['GET', 'POST'])\n",
    "def home():\n",
    "    \"\"\"Home page of app with form\"\"\"\n",
    "    \n",
    "    # Create form\n",
    "    form = ReusableForm(request.form)\n",
    "    \n",
    "    # On form entry and all conditions met\n",
    "    if request.method == 'POST' and form.validate():\n",
    "        # Extract information\n",
    "        content_img = request.form['content']\n",
    "        style_img = request.form['style']\n",
    "        steps = int(request.form['steps'])\n",
    "\n",
    "    # Send template information to index.html\n",
    "    return render_template('index.html', form=form)\n",
    "\n",
    "app.run(host='0.0.0.0', port=3224)"
   ]
  },
  {
   "cell_type": "code",
   "execution_count": null,
   "metadata": {
    "hidden": true
   },
   "outputs": [],
   "source": []
  },
  {
   "cell_type": "markdown",
   "metadata": {},
   "source": [
    "# Starlette"
   ]
  },
  {
   "cell_type": "markdown",
   "metadata": {},
   "source": [
    "### If I screw something up, go to templates/index_form_working.html\n",
    "### js/client_working.js\n",
    "### nst_star_app_working.py"
   ]
  },
  {
   "cell_type": "code",
   "execution_count": 304,
   "metadata": {
    "ExecuteTime": {
     "end_time": "2019-01-15T02:28:48.211613Z",
     "start_time": "2019-01-15T02:28:48.054145Z"
    }
   },
   "outputs": [
    {
     "name": "stdout",
     "output_type": "stream",
     "text": [
      "bootstrap.min.css  jumbotron.css  style.bak.css  style.css\r\n"
     ]
    }
   ],
   "source": [
    "ls statics/css/"
   ]
  },
  {
   "cell_type": "code",
   "execution_count": 318,
   "metadata": {
    "ExecuteTime": {
     "end_time": "2019-01-15T02:44:01.253065Z",
     "start_time": "2019-01-15T02:44:01.219623Z"
    },
    "code_folding": [
     0
    ]
   },
   "outputs": [
    {
     "name": "stdout",
     "output_type": "stream",
     "text": [
      "Overwriting statics/css/style.css\n"
     ]
    }
   ],
   "source": [
    "%%writefile statics/css/style.css\n",
    "body {\n",
    "    background-color: #fff;\n",
    "}\n",
    "\n",
    ".no-display {\n",
    "    display: none;\n",
    "}\n",
    "\n",
    ".center {\n",
    "    margin: auto;\n",
    "    padding: 10px;\n",
    "    padding-left:50px;\n",
    "    padding-right:50px;\n",
    "    text-align: center;\n",
    "    font-size: 14px;\n",
    "}\n",
    "\n",
    ".title {\n",
    "    font-size: 30px;\n",
    "    margin-top: 1em;\n",
    "    margin-bottom: 1em;\n",
    "    color: #262626;\n",
    "}\n",
    "\n",
    ".content {\n",
    "    margin-top: 10em;\n",
    "}\n",
    "\n",
    ".analyze {\n",
    "    margin-top: 5em;\n",
    "}\n",
    "\n",
    ".upload-label {\n",
    "    padding: 10px;\n",
    "    font-size: 12px;\n",
    "}\n",
    "\n",
    ".result-label {\n",
    "    margin-top: 0.5em;\n",
    "    padding: 10px;\n",
    "    font-size: 13px;\n",
    "}\n",
    "\n",
    "button.choose-file-button {\n",
    "  width: 200px;\n",
    "  height: 40px;\n",
    "  border-radius: 2px;\n",
    "  background-color: #ffffff;\n",
    "  border: solid 1px #7052CB;\n",
    "  font-size: 13px;\n",
    "  color: #7052CB;\n",
    "}\n",
    "\n",
    "button.analyze-button {\n",
    "    width: 200px;\n",
    "    height: 40px;\n",
    "    border: solid 1px #7052CB;\n",
    "    border-radius: 2px;\n",
    "    background-color: #7052CB;\n",
    "    font-size: 13px;\n",
    "    color: #ffffff;\n",
    "}\n",
    "\n",
    "button:focus {outline:0;}"
   ]
  },
  {
   "cell_type": "code",
   "execution_count": 358,
   "metadata": {
    "ExecuteTime": {
     "end_time": "2019-01-16T01:39:46.357257Z",
     "start_time": "2019-01-16T01:39:46.326845Z"
    },
    "code_folding": [
     2,
     15,
     24,
     27,
     32,
     41,
     44
    ]
   },
   "outputs": [
    {
     "name": "stdout",
     "output_type": "stream",
     "text": [
      "Overwriting templates/index_form.html\n"
     ]
    }
   ],
   "source": [
    "%%writefile templates/index_form.html\n",
    "<html lang='en'>\n",
    "    <head>\n",
    "        <meta charset='utf-8'>\n",
    "        <link rel='stylesheet' href='/statics/css/style.css'>\n",
    "        <link rel=\"shortcut icon\" href=\"/statics/images/favicon.ico\" type=\"image/x-icon\">\n",
    "        <script src='/statics/js/client.js'></script>\n",
    "    </head>\n",
    "    <body>\n",
    "        <div>\n",
    "            <div class='center'>\n",
    "                <div class='title'>Neural Style Transfer via optimization with L2 Wasserstein Distance</div>\n",
    "                <h5>Safari may have some timeout issues. Try Chrome or Firefox</h5>\n",
    "\n",
    "                    <!-- CONTENT -->\n",
    "                    <div class='no-display'>\n",
    "                        <input id='content-input'\n",
    "                            class='no-display'\n",
    "                            type='file'\n",
    "                            name='content'\n",
    "                            accept='image/*'\n",
    "                            onchange='showPickedContent(this)'>\n",
    "                    </div>\n",
    "                    <button class='choose-file-button' type='button' onclick='showPickerContent()'>Select Content Image</button>\n",
    "                    <div class='upload-label'>\n",
    "                        <label id='content-upload-label'>No file chosen</label>\n",
    "                    </div>\n",
    "                    <div class='content-img'>\n",
    "                        <img id='content-image-picked' class='no-display' alt='Content Image' height='200'>\n",
    "                    </div>\n",
    "                    \n",
    "                    <!-- STYLE -->\n",
    "                    <div class='no-display'>\n",
    "                        <input id='style-input'\n",
    "                        class='no-display'\n",
    "                        type='file'\n",
    "                        name='style'\n",
    "                        accept='image/*'\n",
    "                        onchange='showPickedStyle(this)'>\n",
    "                    </div>\n",
    "                    <button class='choose-file-button' type='button' onclick='showPickerStyle()'>Select Style Image</button>\n",
    "                    <div class='upload-label'>\n",
    "                        <label id='style-upload-label'>No file chosen</label>\n",
    "                    </div>\n",
    "                    <div>\n",
    "                         <img id='style-image-picked' class='no-display' alt='Style Image' height='200'>\n",
    "                    </div>\n",
    "\n",
    "                    <!-- STYLED IMAGE AND ANALYZE -->\n",
    "                    <!--\n",
    "                    <h3>Choose number of optimization steps: (150 max)</h3>\n",
    "                    <input type=\"number\" id = 'steps' value=\"20\">\n",
    "                    -->\n",
    "                    \n",
    "                    <div class='no-display'>\n",
    "                        <input id='stylized-input'\n",
    "                        class='no-display'\n",
    "                        type='file'\n",
    "                        name='stylized'\n",
    "                        accept='image/*'\n",
    "                        onchange='showStylized(this)'>\n",
    "                    </div>\n",
    "                    \n",
    "                    <div class='analyze'>\n",
    "                        <button id='stylize-button' class='analyze-button' type='button' onclick='stylize()'> \n",
    "                        Run Style Transfer</button>\n",
    "                    </div>\n",
    "                    <div class='title' id='step-count-display'>\n",
    "                    </div>\n",
    "                    <div>\n",
    "                        <img id='stylized-image' class='no-display' alt='Stylized Image' height='200'>\n",
    "                    </div>\n",
    "\n",
    "\n",
    "            </div>\n",
    "        </div>\n",
    "    </body>\n",
    "</html>"
   ]
  },
  {
   "cell_type": "code",
   "execution_count": null,
   "metadata": {},
   "outputs": [],
   "source": []
  },
  {
   "cell_type": "code",
   "execution_count": 2,
   "metadata": {
    "ExecuteTime": {
     "end_time": "2019-01-17T01:18:20.705714Z",
     "start_time": "2019-01-17T01:18:20.688723Z"
    },
    "code_folding": [
     6
    ]
   },
   "outputs": [
    {
     "name": "stdout",
     "output_type": "stream",
     "text": [
      "Overwriting /home/justin/projects/nst_app/deployment/statics/js/client.js\n"
     ]
    }
   ],
   "source": [
    "%%writefile /home/justin/projects/nst_app/deployment/statics/js/client.js\n",
    "var el = x => document.getElementById(x);\n",
    "\n",
    "\n",
    "function showPickerContent(inputId) { el('content-input').click(); }\n",
    "\n",
    "function showPickedContent(input) {\n",
    "    el('content-upload-label').innerHTML = input.files[0].name;\n",
    "    var reader = new FileReader();\n",
    "    reader.onload = function (e) {\n",
    "        el('content-image-picked').src = e.target.result;\n",
    "        el('content-image-picked').className = '';\n",
    "    }\n",
    "    reader.readAsDataURL(input.files[0]);\n",
    "}\n",
    "\n",
    "function showPickerStyle(inputId) { el('style-input').click(); }\n",
    "\n",
    "function showPickedStyle(input) {\n",
    "    el('style-upload-label').innerHTML = input.files[0].name;\n",
    "    var reader = new FileReader();\n",
    "    reader.onload = function (e) {\n",
    "        el('style-image-picked').src = e.target.result;\n",
    "        el('style-image-picked').className = '';\n",
    "    }\n",
    "    reader.readAsDataURL(input.files[0]);\n",
    "}\n",
    "\n",
    "\n",
    "function stylize() {\n",
    "    var contentFile = el('content-input').files;\n",
    "    if (contentFile.length != 1) {\n",
    "        alert('Please select 1 content image!');\n",
    "    } \n",
    "    \n",
    "    var styleFile = el('style-input').files;\n",
    "    if (styleFile.length != 1) {\n",
    "        alert('Please select 1 style image!');\n",
    "    } \n",
    "    /*\n",
    "    var ori_steps = el('steps').value;\n",
    "    if (ori_steps < 1 || ori_steps > 150) {\n",
    "        alert('Steps must be between 1 and 150!');\n",
    "    }\n",
    "    */\n",
    "    \n",
    "    el('stylize-button').innerHTML = 'Styling... Large images may take up to 1 min';\n",
    "    \n",
    "    var xhr = new XMLHttpRequest();\n",
    "    var loc = window.location\n",
    "   \n",
    "    xhr.open('POST', `${loc.protocol}//${loc.hostname}:${loc.port}/stylize`, true);\n",
    "    xhr.onerror = function() {alert (xhr.responseText);}\n",
    "    \n",
    "    var fileData = new FormData();\n",
    "    fileData.append('content', contentFile[0]);\n",
    "    fileData.append('style', styleFile[0]);\n",
    "    /*\n",
    "    figure out how to send steps without corrupting the style image?\n",
    "    trying fileData.append('steps', steps) corrupts. Number(steps) corrupts\n",
    "    */\n",
    "    xhr.send(fileData);\n",
    "    \n",
    "    xhr.onload = function(e) {\n",
    "        if (this.readyState === 4) {\n",
    "            var response = JSON.parse(e.target.responseText);\n",
    "            var byte_img = response['stylized_image']\n",
    "            var height = response['h']\n",
    "            var width = response['w']\n",
    "            var steps = response['steps']\n",
    "            el('stylized-image').style.width = width;\n",
    "            el('stylized-image').style.height = height;\n",
    "            el('stylized-image').className = '';\n",
    "            el('stylized-image').src = \"data:image/png;base64,\" + byte_img;\n",
    "            el('stylize-button').innerHTML = 'Stylized. Rerun Style Transfer?';\n",
    "            el('step-count-display').innerHTML = `Stylized for ${steps} steps`;\n",
    "        }\n",
    "    }\n",
    "    \n",
    "}\n",
    "\n",
    "/*            \n",
    "            showStylized()\n",
    "function showStylized() {\n",
    "    var reader = new FileReader()\n",
    "    var file = el('stylized-image')\n",
    "    reader.readAsDataURL(file.toDataURL)\n",
    "}\n",
    "*/"
   ]
  },
  {
   "cell_type": "code",
   "execution_count": 361,
   "metadata": {
    "ExecuteTime": {
     "end_time": "2019-01-16T21:16:07.519377Z",
     "start_time": "2019-01-16T21:16:07.491001Z"
    }
   },
   "outputs": [
    {
     "data": {
      "text/plain": [
       "'/home/justin/projects/nst_app/deployment'"
      ]
     },
     "execution_count": 361,
     "metadata": {},
     "output_type": "execute_result"
    }
   ],
   "source": []
  },
  {
   "cell_type": "code",
   "execution_count": 378,
   "metadata": {
    "ExecuteTime": {
     "end_time": "2019-01-16T23:07:45.940069Z",
     "start_time": "2019-01-16T23:07:45.908857Z"
    }
   },
   "outputs": [
    {
     "data": {
      "text/plain": [
       "'/home/justin/projects/nst_app/deployment/statics'"
      ]
     },
     "execution_count": 378,
     "metadata": {},
     "output_type": "execute_result"
    }
   ],
   "source": [
    "os.path.join(cur_dir, 'statics')"
   ]
  },
  {
   "cell_type": "code",
   "execution_count": 379,
   "metadata": {
    "ExecuteTime": {
     "end_time": "2019-01-16T23:40:43.940341Z",
     "start_time": "2019-01-16T23:40:43.903905Z"
    }
   },
   "outputs": [],
   "source": [
    "StaticFiles??"
   ]
  },
  {
   "cell_type": "code",
   "execution_count": 381,
   "metadata": {
    "ExecuteTime": {
     "end_time": "2019-01-16T23:43:54.527888Z",
     "start_time": "2019-01-16T23:43:54.494683Z"
    },
    "code_folding": []
   },
   "outputs": [
    {
     "name": "stdout",
     "output_type": "stream",
     "text": [
      "Overwriting /home/justin/projects/nst_app/deployment/nst_star_app.py\n"
     ]
    }
   ],
   "source": [
    "%%writefile /home/justin/projects/nst_app/deployment/nst_star_app.py\n",
    "\n",
    "import vgg_classes as vg\n",
    "import torch\n",
    "import matplotlib.pyplot as plt\n",
    "\n",
    "from starlette.applications import Starlette\n",
    "from starlette.responses import JSONResponse, HTMLResponse, RedirectResponse, FileResponse\n",
    "from starlette.staticfiles import StaticFiles\n",
    "#from wtforms import (Form, FileField, IntegerField, SubmitField, validators)\n",
    "\n",
    "from pathlib import Path\n",
    "from io import BytesIO\n",
    "import sys\n",
    "import uvicorn\n",
    "import aiohttp\n",
    "import asyncio\n",
    "import os\n",
    "import json\n",
    "import requests\n",
    "import base64 \n",
    "from PIL import Image as PILImage\n",
    "import torchvision.transforms as transforms\n",
    "\n",
    "app = Starlette(debug=True, template_directory='templates')\n",
    "cur_dir = os.getcwd()\n",
    "app.mount('/statics', StaticFiles(directory='statics'), name='statics')\n",
    "\n",
    "# setup\n",
    "# use gpu\n",
    "device = torch.device(\"cuda\" if torch.cuda.is_available() else \"cpu\")\n",
    "# choose layers\n",
    "cont_lyrs = ['relu1_1']\n",
    "stl_lyrs = ['relu1_1', 'relu1_2', 'relu2_1', 'relu2_2', 'relu3_1'] \n",
    "# NN choices\n",
    "pool_type = 'avg'\n",
    "cont_loss_type = 'mse'\n",
    "stl_loss_type = 'l2'\n",
    "\n",
    "# load in gatys vgg, use as base for our vgg\n",
    "model_dir = os.getcwd() + '/models/'\n",
    "vgg_g = vg.VGG_g(pool='avg')\n",
    "vgg_g.load_state_dict(torch.load(model_dir + 'vgg_conv.pth'))\n",
    "\n",
    "\n",
    "@app.route(\"/\", methods=[\"GET\"])\n",
    "async def index(request):\n",
    "    template = app.get_template('index_form.html')\n",
    "    content = template.render(request=request)\n",
    "    return HTMLResponse(content)\n",
    "\n",
    "@app.route(\"/stylize\", methods=[\"POST\"])\n",
    "async def stylize(request):\n",
    "    data = await request.form()\n",
    "    content = await (data[\"content\"].read())\n",
    "    style = await (data[\"style\"].read())\n",
    "    steps = 30\n",
    "    decoded_bytes_img, h, w = do_nst_stylize(content, style, steps)\n",
    "    print('sending bytes img in jsonresponse')\n",
    "    return JSONResponse({'stylized_image': decoded_bytes_img,\n",
    "                         'h': h,\n",
    "                         'w': w,\n",
    "                         'steps': steps})\n",
    "    \n",
    "def encode(tensor):\n",
    "    image = tensor.cpu().clone()\n",
    "    image = image.squeeze(0)\n",
    "    image = vg.unloader(image)\n",
    "    image[image>1] = 1\n",
    "    image[image<0] = 0\n",
    "    to_pil = transforms.ToPILImage()\n",
    "    pil_image = to_pil(image)\n",
    "#     return pil_image\n",
    "    buff = BytesIO()\n",
    "    pil_image.save(buff, format=\"JPEG\")\n",
    "    return base64.b64encode(buff.getvalue()).decode(\"utf-8\")    \n",
    "\n",
    "def do_nst_stylize(content, style, steps=10):\n",
    "    content_img = vg.image_loader(BytesIO(content))\n",
    "    style_img = vg.image_loader(BytesIO(style))\n",
    "    synth = content_img.clone()\n",
    "    bs, c, h,w = content_img.shape\n",
    "    nst = vg.TransferStyle(base_cnn=vgg_g.to(device),\n",
    "                           cont_loss_type=cont_loss_type,\n",
    "                           stl_loss_type=stl_loss_type,\n",
    "                           cont_img=content_img,\n",
    "                           stl_img=style_img,\n",
    "                           pool_type=pool_type,\n",
    "                           cont_lyrs=cont_lyrs,\n",
    "                           stl_lyrs=stl_lyrs,\n",
    "                           device=device,\n",
    "                           resize_conv=False,\n",
    "                           downsample=False,\n",
    "                           approx_stl=True)\n",
    "    output = nst.run_style_transfer(synth, 'adam', steps, 1e0, style_off=False,\n",
    "                                    content_off=False, show_step=int(steps/5),\n",
    "                                    loss_plots=False, show_synth=False)\n",
    "    o_img_data = encode(output)\n",
    "    return o_img_data, h, w\n",
    "\n",
    "if __name__ == \"__main__\":\n",
    "    if \"serve\" in sys.argv:\n",
    "        port = int(os.environ.get(\"PORT\", 8008)) \n",
    "        uvicorn.run(app, host=\"0.0.0.0\", port=port)"
   ]
  },
  {
   "cell_type": "code",
   "execution_count": null,
   "metadata": {},
   "outputs": [],
   "source": []
  },
  {
   "cell_type": "code",
   "execution_count": 289,
   "metadata": {
    "ExecuteTime": {
     "end_time": "2019-01-15T01:41:51.503123Z",
     "start_time": "2019-01-15T01:41:51.350120Z"
    }
   },
   "outputs": [],
   "source": [
    "mv statics/images/picasso.ico statics/images/picasso.jpg"
   ]
  },
  {
   "cell_type": "code",
   "execution_count": 287,
   "metadata": {
    "ExecuteTime": {
     "end_time": "2019-01-15T01:40:03.022561Z",
     "start_time": "2019-01-15T01:40:02.868024Z"
    }
   },
   "outputs": [
    {
     "name": "stdout",
     "output_type": "stream",
     "text": [
      "ex.py             nst_app.ipynb            run_keras_server.py  utils.py\r\n",
      "__init__.py       nst_star_app.py          \u001b[0m\u001b[01;34mstatic.bak\u001b[0m/          vgg_classes.py\r\n",
      "\u001b[01;34mmodels\u001b[0m/           nst_star_app_working.py  \u001b[01;34mstatics\u001b[0m/\r\n",
      "nst_app_flask.py  \u001b[01;34m__pycache__\u001b[0m/             \u001b[01;34mtemplates\u001b[0m/\r\n"
     ]
    }
   ],
   "source": [
    "ls statics/images/"
   ]
  },
  {
   "cell_type": "code",
   "execution_count": null,
   "metadata": {},
   "outputs": [],
   "source": []
  },
  {
   "cell_type": "code",
   "execution_count": null,
   "metadata": {},
   "outputs": [],
   "source": []
  },
  {
   "cell_type": "code",
   "execution_count": null,
   "metadata": {},
   "outputs": [],
   "source": []
  },
  {
   "cell_type": "code",
   "execution_count": null,
   "metadata": {
    "ExecuteTime": {
     "end_time": "2019-01-14T21:13:02.104622Z",
     "start_time": "2019-01-14T21:13:01.599278Z"
    },
    "code_folding": [
     0
    ]
   },
   "outputs": [],
   "source": [
    "# %load /home/justin/projects/nst_app/deployment/nst_star_app_working.py\n",
    "\n",
    "import vgg_classes as vg\n",
    "import torch\n",
    "import matplotlib.pyplot as plt\n",
    "\n",
    "from starlette.applications import Starlette\n",
    "from starlette.responses import JSONResponse, HTMLResponse, RedirectResponse, FileResponse\n",
    "from starlette.staticfiles import StaticFiles\n",
    "from wtforms import (Form, FileField, IntegerField, SubmitField, validators)\n",
    "\n",
    "from pathlib import Path\n",
    "from io import BytesIO\n",
    "import sys\n",
    "import uvicorn\n",
    "import aiohttp\n",
    "import asyncio\n",
    "import os\n",
    "import json\n",
    "import requests\n",
    "import base64 \n",
    "from PIL import Image as PILImage\n",
    "import torchvision.transforms as transforms\n",
    "\n",
    "app = Starlette(debug=True, template_directory='templates')\n",
    "app.mount('/statics', StaticFiles(directory='statics'), name='statics')\n",
    "\n",
    "# setup\n",
    "# use gpu\n",
    "device = torch.device(\"cuda\" if torch.cuda.is_available() else \"cpu\")\n",
    "# choose layers\n",
    "cont_lyrs = ['relu1_1']\n",
    "stl_lyrs = ['relu1_1', 'relu1_2', 'relu2_1', 'relu2_2', 'relu3_1'] \n",
    "# NN choices\n",
    "pool_type = 'avg'\n",
    "cont_loss_type = 'mse'\n",
    "stl_loss_type = 'l2'\n",
    "\n",
    "# load in gatys vgg, use as base for our vgg\n",
    "model_dir = os.getcwd() + '/models/'\n",
    "vgg_g = vg.VGG_g(pool='avg')\n",
    "vgg_g.load_state_dict(torch.load(model_dir + 'vgg_conv.pth'))\n",
    "\n",
    "\n",
    "@app.route(\"/\", methods=[\"GET\"])\n",
    "async def index(request):\n",
    "    template = app.get_template('index_form.html')\n",
    "    content = template.render(request=request)\n",
    "    return HTMLResponse(content)\n",
    "\n",
    "\n",
    "@app.route(\"/upload\", methods=[\"POST\", \"GET\"])# \"GET\"\n",
    "async def upload(request):\n",
    "    if request.method == \"POST\":\n",
    "        data = await request.form()\n",
    "        content = await (data[\"content\"].read())\n",
    "        style = await (data[\"style\"].read())\n",
    "    #     steps = await (data[\"steps\"].read())\n",
    "        steps = 10\n",
    "        return do_nst(content, style, steps)\n",
    "    elif request.method == \"GET\":\n",
    "        return RedirectResponse(\"/\")\n",
    "\n",
    "@app.route(\"/stylize\", methods=[\"POST\"])\n",
    "async def stylize(request):\n",
    "    data = await request.form()\n",
    "    content = await (data[\"content\"].read())\n",
    "    style = await (data[\"style\"].read())\n",
    "    steps = 10\n",
    "    decoded_bytes_img = do_nst_stylize(content, style, steps)\n",
    "    print('sending bytes img in jsonresponse')\n",
    "    return JSONResponse({'stylized_image': decoded_bytes_img})\n",
    "#     return RedirectResponse(\"/\")\n",
    "#     return RedirectResponse(\"/test\")\n",
    "\n",
    "@app.route(\"/test\")\n",
    "def test(request):\n",
    "    return HTMLResponse(\n",
    "        \"\"\"\n",
    "        <h1>A test page?</h1>\n",
    "        \"\"\")\n",
    "    \n",
    "def encode(tensor):\n",
    "    image = tensor.cpu().clone()\n",
    "    image = image.squeeze(0)\n",
    "    image = vg.unloader(image)\n",
    "    image[image>1] = 1\n",
    "    image[image<0] = 0\n",
    "    to_pil = transforms.ToPILImage()\n",
    "    pil_image = to_pil(image)\n",
    "#     return pil_image\n",
    "    buff = BytesIO()\n",
    "    pil_image.save(buff, format=\"JPEG\")\n",
    "    return base64.b64encode(buff.getvalue()).decode(\"utf-8\")    \n",
    "\n",
    "def do_nst_stylize(content, style, steps=10):\n",
    "    content_img = vg.image_loader(BytesIO(content))\n",
    "    style_img = vg.image_loader(BytesIO(style))\n",
    "    synth = content_img.clone()\n",
    "    bs, c, h,w = content_img.shape\n",
    "    nst = vg.TransferStyle(base_cnn=vgg_g.to(device),\n",
    "                           cont_loss_type=cont_loss_type,\n",
    "                           stl_loss_type=stl_loss_type,\n",
    "                           cont_img=content_img,\n",
    "                           stl_img=style_img,\n",
    "                           pool_type=pool_type,\n",
    "                           cont_lyrs=cont_lyrs,\n",
    "                           stl_lyrs=stl_lyrs,\n",
    "                           device=device,\n",
    "                           resize_conv=False,\n",
    "                           downsample=False,\n",
    "                           approx_stl=True)\n",
    "    output = nst.run_style_transfer(synth, 'adam', steps, 1e0, style_off=False,\n",
    "                                    content_off=False, show_step=int(steps/5),\n",
    "                                    loss_plots=False, show_synth=False)\n",
    "    o_img_data = encode(output)\n",
    "    return o_img_data\n",
    "\n",
    "def do_nst(content, style, steps=10):\n",
    "    content_img = vg.image_loader(BytesIO(content))\n",
    "    style_img = vg.image_loader(BytesIO(style))\n",
    "    synth = content_img.clone()\n",
    "    bs, c, h,w = content_img.shape\n",
    "    nst = vg.TransferStyle(base_cnn=vgg_g.to(device),\n",
    "                           cont_loss_type=cont_loss_type,\n",
    "                           stl_loss_type=stl_loss_type,\n",
    "                           cont_img=content_img,\n",
    "                           stl_img=style_img,\n",
    "                           pool_type=pool_type,\n",
    "                           cont_lyrs=cont_lyrs,\n",
    "                           stl_lyrs=stl_lyrs,\n",
    "                           device=device,\n",
    "                           resize_conv=False,\n",
    "                           downsample=False,\n",
    "                           approx_stl=True)\n",
    "    output = nst.run_style_transfer(synth, 'adam', steps, 1e0, style_off=False,\n",
    "                                    content_off=False, show_step=int(steps/5),\n",
    "                                    loss_plots=False, show_synth=False)\n",
    "    o_img_data = encode(output)\n",
    "    return HTMLResponse(\n",
    "        f\"\"\"\n",
    "        <html>\n",
    "        <figure class=\"figure\">\n",
    "          <img src=\"data:image/png;base64, {o_img_data}\" class=\"figure-img img-thumbnail input-image\", height=\"{h}\", width=\"{w}\">\n",
    "        </figure>        \n",
    "        </html>\n",
    "    \"\"\")\n",
    "\n",
    "if __name__ == \"__main__\":\n",
    "    if \"serve\" in sys.argv:\n",
    "        port = int(os.environ.get(\"PORT\", 8008)) \n",
    "        uvicorn.run(app, host=\"0.0.0.0\", port=port)"
   ]
  },
  {
   "cell_type": "code",
   "execution_count": null,
   "metadata": {},
   "outputs": [],
   "source": []
  },
  {
   "cell_type": "code",
   "execution_count": null,
   "metadata": {},
   "outputs": [],
   "source": []
  },
  {
   "cell_type": "code",
   "execution_count": 67,
   "metadata": {
    "ExecuteTime": {
     "end_time": "2019-01-13T07:24:59.025390Z",
     "start_time": "2019-01-13T07:24:58.995301Z"
    }
   },
   "outputs": [],
   "source": [
    "from starlette.responses import JSONResponse, HTMLResponse, RedirectResponse, FileResponse"
   ]
  },
  {
   "cell_type": "code",
   "execution_count": 68,
   "metadata": {
    "ExecuteTime": {
     "end_time": "2019-01-13T07:25:04.122472Z",
     "start_time": "2019-01-13T07:25:04.077527Z"
    }
   },
   "outputs": [],
   "source": [
    "FileResponse??"
   ]
  },
  {
   "cell_type": "code",
   "execution_count": 10,
   "metadata": {
    "ExecuteTime": {
     "end_time": "2019-01-12T08:23:18.092736Z",
     "start_time": "2019-01-12T08:23:17.973177Z"
    }
   },
   "outputs": [
    {
     "ename": "NameError",
     "evalue": "name 'request' is not defined",
     "output_type": "error",
     "traceback": [
      "\u001b[0;31m---------------------------------------------------------------------------\u001b[0m",
      "\u001b[0;31mNameError\u001b[0m                                 Traceback (most recent call last)",
      "\u001b[0;32m<ipython-input-10-fc45f7e46e5d>\u001b[0m in \u001b[0;36m<module>\u001b[0;34m()\u001b[0m\n\u001b[1;32m      1\u001b[0m \u001b[0mtemplate\u001b[0m \u001b[0;34m=\u001b[0m \u001b[0mapp\u001b[0m\u001b[0;34m.\u001b[0m\u001b[0mget_template\u001b[0m\u001b[0;34m(\u001b[0m\u001b[0;34m'index.html'\u001b[0m\u001b[0;34m)\u001b[0m\u001b[0;34m\u001b[0m\u001b[0m\n\u001b[0;32m----> 2\u001b[0;31m \u001b[0mcontent\u001b[0m \u001b[0;34m=\u001b[0m \u001b[0mtemplate\u001b[0m\u001b[0;34m.\u001b[0m\u001b[0mrender\u001b[0m\u001b[0;34m(\u001b[0m\u001b[0mrequest\u001b[0m\u001b[0;34m=\u001b[0m\u001b[0mrequest\u001b[0m\u001b[0;34m,\u001b[0m \u001b[0mcontent_image\u001b[0m \u001b[0;34m=\u001b[0m \u001b[0;34m'dancing.jpg'\u001b[0m\u001b[0;34m)\u001b[0m\u001b[0;34m\u001b[0m\u001b[0m\n\u001b[0m",
      "\u001b[0;31mNameError\u001b[0m: name 'request' is not defined"
     ]
    }
   ],
   "source": [
    "template = app.get_template('index.html')\n",
    "content = template.render(request=request, content_image = 'dancing.jpg')"
   ]
  },
  {
   "cell_type": "code",
   "execution_count": 49,
   "metadata": {
    "ExecuteTime": {
     "end_time": "2019-01-11T22:33:24.716474Z",
     "start_time": "2019-01-11T22:33:24.295201Z"
    }
   },
   "outputs": [],
   "source": [
    "img_dir = './images/Steph wedding/'\n",
    "img_dir2 = './images/'\n",
    "content_name = 'Scan4.jpg'\n",
    "style_name = 'scream.jpg'\n",
    "\n",
    "content_img = vg.image_loader(f'{img_dir}{content_name}')\n",
    "style_img = vg.image_loader(f'{img_dir2}{style_name}')"
   ]
  },
  {
   "cell_type": "code",
   "execution_count": 50,
   "metadata": {
    "ExecuteTime": {
     "end_time": "2019-01-11T22:33:26.469451Z",
     "start_time": "2019-01-11T22:33:26.326317Z"
    }
   },
   "outputs": [],
   "source": [
    "nst = vg.TransferStyle(base_cnn=vgg_g.to(device), cont_loss_type=cont_loss_type, stl_loss_type=stl_loss_type, cont_img=content_img, stl_img=style_img, pool_type=pool_type, cont_lyrs=cont_lyrs, stl_lyrs=stl_lyrs, device=device, resize_conv=False, downsample=False, approx_stl=True)"
   ]
  },
  {
   "cell_type": "code",
   "execution_count": 51,
   "metadata": {
    "ExecuteTime": {
     "end_time": "2019-01-11T22:33:33.863449Z",
     "start_time": "2019-01-11T22:33:29.439387Z"
    },
    "code_folding": [
     0
    ]
   },
   "outputs": [],
   "source": [
    "# # setup fake images before user inputs\n",
    "# content_img = torch.randn((1,3,512,512)).cuda()\n",
    "# style_img = torch.randn((1,3,512,512)).cuda()\n",
    "\n",
    "synth = content_img.clone()\n",
    "# synth = (torch.rand(content_img.size())*0).cuda()\n",
    "\n",
    "steps = 20\n",
    "output = nst.run_style_transfer(synth, 'adam', steps, 1e0, style_off=False, content_off=False, show_step=int(steps/5), loss_plots=False, show_synth=False, ax_synth=None, fig=None)"
   ]
  },
  {
   "cell_type": "code",
   "execution_count": null,
   "metadata": {},
   "outputs": [],
   "source": []
  },
  {
   "cell_type": "markdown",
   "metadata": {},
   "source": [
    "# previous, working version"
   ]
  },
  {
   "cell_type": "code",
   "execution_count": 9,
   "metadata": {
    "ExecuteTime": {
     "end_time": "2018-12-24T00:47:04.389006Z",
     "start_time": "2018-12-24T00:47:04.363220Z"
    },
    "code_folding": [
     0,
     56,
     70,
     83,
     96,
     109,
     170,
     175
    ]
   },
   "outputs": [
    {
     "name": "stdout",
     "output_type": "stream",
     "text": [
      "Overwriting nst-app.py\n"
     ]
    }
   ],
   "source": [
    "%%writefile nst-app.py\n",
    "# %load nst-app.py\n",
    "from starlette.applications import Starlette\n",
    "from starlette.responses import JSONResponse, HTMLResponse, RedirectResponse\n",
    "\n",
    "# import torch\n",
    "from pathlib import Path\n",
    "from io import BytesIO\n",
    "import sys\n",
    "import uvicorn\n",
    "import aiohttp\n",
    "import asyncio\n",
    "import os\n",
    "import json\n",
    "import requests\n",
    "import base64 \n",
    "import PIL\n",
    "from PIL import Image as PILImage\n",
    "\n",
    "from fastai.vision import *\n",
    "import torch\n",
    "import torch.nn as nn\n",
    "import torch.nn.functional as F\n",
    "import torch.optim as optim\n",
    "\n",
    "import torchvision.transforms as transforms\n",
    "import torchvision.models as models\n",
    "\n",
    "import copy\n",
    "\n",
    "# NST stuff\n",
    "# desired depth layers to compute style/content losses :\n",
    "content_layers_default = ['conv_4']\n",
    "style_layers_default = ['conv_1', 'conv_2', 'conv_3', 'conv_4', 'conv_5']\n",
    "device = torch.device(\"cuda\" if torch.cuda.is_available() else \"cpu\")\n",
    "\n",
    "# desired size of the output image\n",
    "imsize = 512 if torch.cuda.is_available() else 128  # use small size if no gpu\n",
    "\n",
    "loader = transforms.Compose([\n",
    "    transforms.Resize(imsize),  # scale imported image\n",
    "    transforms.CenterCrop(imsize), # center crop it\n",
    "    transforms.ToTensor()])  # transform it into a torch tensor\n",
    "\n",
    "def image_loader(image):\n",
    "    image = PILImage.fromarray(np.uint8(image2np(image.data)*255))\n",
    "    # fake batch dimension required to fit network's input dimensions\n",
    "    image = loader(image).unsqueeze(0)\n",
    "    # drop the 4th channel if it exists\n",
    "    if image.shape[1] != 3:\n",
    "        print('image shape is {0} (batch, channel, HxW)'.format(image.shape))\n",
    "        print('reshaping channel')\n",
    "        image = image[:,:3,:,:]\n",
    "        \n",
    "    return image.to(device, torch.float)\n",
    "\n",
    "class ContentLoss(nn.Module):\n",
    "\n",
    "    def __init__(self, target,):\n",
    "        super(ContentLoss, self).__init__()\n",
    "        # we 'detach' the target content from the tree used\n",
    "        # to dynamically compute the gradient: this is a stated value,\n",
    "        # not a variable. Otherwise the forward method of the criterion\n",
    "        # will throw an error.\n",
    "        self.target = target.detach()\n",
    "\n",
    "    def forward(self, input):\n",
    "        self.loss = F.mse_loss(input, self.target)\n",
    "        return input\n",
    "    \n",
    "def gram_matrix(input):\n",
    "    a, b, c, d = input.size()  # a=batch size(=1)\n",
    "    # b=number of feature maps\n",
    "    # (c,d)=dimensions of a f. map (N=c*d)\n",
    "\n",
    "    features = input.view(a * b, c * d)  # resise F_XL into \\hat F_XL\n",
    "\n",
    "    G = torch.mm(features, features.t())  # compute the gram product\n",
    "\n",
    "    # we 'normalize' the values of the gram matrix\n",
    "    # by dividing by the number of element in each feature maps.\n",
    "    return G.div(a * b * c * d)\n",
    "\n",
    "class StyleLoss(nn.Module):\n",
    "\n",
    "    def __init__(self, target_feature):\n",
    "        super(StyleLoss, self).__init__()\n",
    "        self.target = gram_matrix(target_feature).detach()\n",
    "\n",
    "    def forward(self, input):\n",
    "        G = gram_matrix(input)\n",
    "        self.loss = F.mse_loss(G, self.target)\n",
    "        return input\n",
    "    \n",
    "# create a module to normalize input image so we can easily put it in a\n",
    "# nn.Sequential\n",
    "class Normalization(nn.Module):\n",
    "    def __init__(self, mean, std):\n",
    "        super(Normalization, self).__init__()\n",
    "        # .view the mean and std to make them [C x 1 x 1] so that they can\n",
    "        # directly work with image Tensor of shape [B x C x H x W].\n",
    "        # B is batch size. C is number of channels. H is height and W is width.\n",
    "        self.mean = torch.tensor(mean).view(-1, 1, 1)\n",
    "        self.std = torch.tensor(std).view(-1, 1, 1)\n",
    "\n",
    "    def forward(self, img):\n",
    "        # normalize img\n",
    "        return (img - self.mean) / self.std\n",
    "    \n",
    "def get_style_model_and_losses(cnn, normalization_mean, normalization_std,\n",
    "                               style_img, content_img,\n",
    "                               content_layers=content_layers_default,\n",
    "                               style_layers=style_layers_default):\n",
    "    cnn = copy.deepcopy(cnn)\n",
    "\n",
    "    # normalization module\n",
    "    normalization = Normalization(normalization_mean, normalization_std).to(device)\n",
    "\n",
    "    # just in order to have an iterable access to or list of content/syle\n",
    "    # losses\n",
    "    content_losses = []\n",
    "    style_losses = []\n",
    "\n",
    "    # assuming that cnn is a nn.Sequential, so we make a new nn.Sequential\n",
    "    # to put in modules that are supposed to be activated sequentially\n",
    "    model = nn.Sequential(normalization)\n",
    "\n",
    "    i = 0  # increment every time we see a conv\n",
    "    for layer in cnn.children():\n",
    "        if isinstance(layer, nn.Conv2d):\n",
    "            i += 1\n",
    "            name = 'conv_{}'.format(i)\n",
    "        elif isinstance(layer, nn.ReLU):\n",
    "            name = 'relu_{}'.format(i)\n",
    "            # The in-place version doesn't play very nicely with the ContentLoss\n",
    "            # and StyleLoss we insert below. So we replace with out-of-place\n",
    "            # ones here.\n",
    "            layer = nn.ReLU(inplace=False)\n",
    "        elif isinstance(layer, nn.MaxPool2d):\n",
    "            name = 'pool_{}'.format(i)\n",
    "        elif isinstance(layer, nn.BatchNorm2d):\n",
    "            name = 'bn_{}'.format(i)\n",
    "        else:\n",
    "            raise RuntimeError('Unrecognized layer: {}'.format(layer.__class__.__name__))\n",
    "\n",
    "        model.add_module(name, layer)\n",
    "\n",
    "        if name in content_layers:\n",
    "            # add content loss:\n",
    "            target = model(content_img).detach()\n",
    "            content_loss = ContentLoss(target)\n",
    "            model.add_module(\"content_loss_{}\".format(i), content_loss)\n",
    "            content_losses.append(content_loss)\n",
    "\n",
    "        if name in style_layers:\n",
    "            # add style loss:\n",
    "            target_feature = model(style_img).detach()\n",
    "            style_loss = StyleLoss(target_feature)\n",
    "            model.add_module(\"style_loss_{}\".format(i), style_loss)\n",
    "            style_losses.append(style_loss)\n",
    "\n",
    "    # now we trim off the layers after the last content and style losses\n",
    "    for i in range(len(model) - 1, -1, -1):\n",
    "        if isinstance(model[i], ContentLoss) or isinstance(model[i], StyleLoss):\n",
    "            break\n",
    "\n",
    "    model = model[:(i + 1)]\n",
    "\n",
    "    return model, style_losses, content_losses   \n",
    "\n",
    "def get_input_optimizer(input_img):\n",
    "    # this line to show that input is a parameter that requires a gradient\n",
    "    optimizer = optim.LBFGS([input_img.requires_grad_()], lr=.5)\n",
    "    return optimizer\n",
    "\n",
    "def run_style_transfer(cnn, normalization_mean, normalization_std,\n",
    "                       content_img, style_img, input_img, num_steps=300,\n",
    "                       style_weight=1, content_weight=1):\n",
    "    \"\"\"Run the style transfer.\"\"\"\n",
    "    print('Building the style transfer model..')\n",
    "    model, style_losses, content_losses = get_style_model_and_losses(cnn,\n",
    "        normalization_mean, normalization_std, style_img, content_img)\n",
    "    optimizer = get_input_optimizer(input_img)\n",
    "\n",
    "    print('Optimizing..')\n",
    "    run = [0]\n",
    "    while run[0] <= num_steps:\n",
    "\n",
    "        def closure():\n",
    "            # correct the values of updated input image\n",
    "            input_img.data.clamp_(0, 1)\n",
    "\n",
    "            optimizer.zero_grad()\n",
    "            model(input_img)\n",
    "            style_score = 0\n",
    "            content_score = 0\n",
    "\n",
    "            for sl in style_losses:\n",
    "                style_score += sl.loss\n",
    "            for cl in content_losses:\n",
    "                content_score += cl.loss\n",
    "\n",
    "            style_score *= style_weight\n",
    "            content_score *= content_weight\n",
    "\n",
    "            loss = style_score + content_score\n",
    "            loss.backward()\n",
    "\n",
    "            run[0] += 1\n",
    "            if run[0] % 50 == 0:\n",
    "                print(\"run {}:\".format(run))\n",
    "                print('Style Loss : {:4f} Content Loss: {:4f}'.format(\n",
    "                    style_score.item(), content_score.item()))\n",
    "                print()\n",
    "\n",
    "            return style_score + content_score\n",
    "\n",
    "        optimizer.step(closure)\n",
    "\n",
    "    # a last correction...\n",
    "    input_img.data.clamp_(0, 1)\n",
    "\n",
    "    return input_img\n",
    "\n",
    "# Non NST stuff\n",
    "\n",
    "def encode(img):\n",
    "    img = (image2np(img.data) * 255).astype('uint8')\n",
    "    pil_img = PILImage.fromarray(img)\n",
    "    buff = BytesIO()\n",
    "    pil_img.save(buff, format=\"JPEG\")\n",
    "    return base64.b64encode(buff.getvalue()).decode(\"utf-8\")\n",
    "\n",
    "\n",
    "\n",
    "\n",
    "app = Starlette()\n",
    "\n",
    "path = Path(\"/tmp\")\n",
    "cnn = models.vgg19(pretrained=True).features.to(device).eval()\n",
    "normalization_mean = torch.tensor([0.485, 0.456, 0.406]).to(device)\n",
    "normalization_std = torch.tensor([0.229, 0.224, 0.225]).to(device)\n",
    "\n",
    "# classes = ['healthy', 'junk']\n",
    "# data = ImageDataBunch.single_from_classes(path, classes, tfms=get_transforms(), size=224).normalize(imagenet_stats)\n",
    "# learner = create_cnn(data, models.resnet50)\n",
    "# learner.model.load_state_dict(\n",
    "#     torch.load(\"model-weights.pth\", map_location=\"cpu\")\n",
    "# )\n",
    "\n",
    "\n",
    "@app.route(\"/upload\", methods=[\"POST\"])\n",
    "async def upload(request):\n",
    "    data = await request.form()\n",
    "    content = await (data[\"content\"].read())\n",
    "    style = await (data[\"style\"].read())\n",
    "    return do_nst(content, style)\n",
    "\n",
    "\n",
    "def do_nst(content, style):\n",
    "    content_img = image_loader(open_image(BytesIO(content)))\n",
    "    style_img = image_loader(open_image(BytesIO(style)))\n",
    "    input_img = content_img.clone()\n",
    "    output = run_style_transfer(cnn, normalization_mean, normalization_std,\n",
    "                                content_img, style_img, input_img, num_steps = 300, style_weight = 100000)\n",
    "    # get rid of batch dimension\n",
    "#     content_img  = content_img.squeeze(0)\n",
    "#     style_ig = style_img.squeeze(0)\n",
    "    output = output.squeeze(0) \n",
    "#     pred_class,pred_idx,outputs = learner.predict(img)\n",
    "#     formatted_outputs = [\"{:.1f}%\".format(value) for value in [x * 100 for x in torch.nn.functional.softmax(outputs, dim=0)]]\n",
    "#     pred_probs = sorted(\n",
    "#             zip(learner.data.classes, map(str, formatted_outputs)),\n",
    "#             key=lambda p: p[1],\n",
    "#             reverse=True\n",
    "#         )\n",
    "#     c_img_data = encode(content_img)\n",
    "#     s_img_data = encode(style_img)\n",
    "    o_img_data = encode(output)\n",
    "    return HTMLResponse(\n",
    "        \"\"\"\n",
    "        <html>\n",
    "        <figure class=\"figure\">\n",
    "          <img src=\"data:image/png;base64, %s\" class=\"figure-img img-thumbnail input-image\">\n",
    "        </figure>        \n",
    "        </html>\n",
    "    \"\"\" %(o_img_data))\n",
    "# <figure class=\"figure\">\n",
    "#           <img src=\"data:image/png;base64, %s\" class=\"figure-img img-thumbnail input-image\">\n",
    "#         </figure>\n",
    "\n",
    "@app.route(\"/\")\n",
    "def form(request):\n",
    "    return HTMLResponse(\n",
    "        \"\"\"\n",
    "        <h1>Neural Style Transfer!</h1>\n",
    "        <p>Content and style images, will return content image styled like style.</p><br>\n",
    "        <form action=\"/upload\" method=\"post\" enctype=\"multipart/form-data\">\n",
    "            <u>Select content and style image to upload:</u><br><p>\n",
    "            Content <input type=\"file\" name=\"content\"><br><p>\n",
    "            Style <input type=\"file\" name=\"style\"><br><p>\n",
    "            Transfer! <input type=\"submit\" value=\"Upload and transfer style\">\n",
    "        </form>\n",
    "    \"\"\")\n",
    "\n",
    "\n",
    "\n",
    "\n",
    "@app.route(\"/test\")\n",
    "def test(request):\n",
    "    return HTMLResponse(\n",
    "        \"\"\"\n",
    "        <h1>A test page?</h1>\n",
    "        \"\"\")\n",
    "\n",
    "@app.route(\"/form\")\n",
    "def redirect_to_homepage(request):\n",
    "    return RedirectResponse(\"/\")\n",
    "\n",
    "\n",
    "if __name__ == \"__main__\":\n",
    "    if \"serve\" in sys.argv:\n",
    "        port = int(os.environ.get(\"PORT\", 8008)) \n",
    "        uvicorn.run(app, host=\"0.0.0.0\", port=port)\n"
   ]
  },
  {
   "cell_type": "code",
   "execution_count": null,
   "metadata": {},
   "outputs": [],
   "source": []
  }
 ],
 "metadata": {
  "kernelspec": {
   "display_name": "Python 3",
   "language": "python",
   "name": "python3"
  },
  "language_info": {
   "codemirror_mode": {
    "name": "ipython",
    "version": 3
   },
   "file_extension": ".py",
   "mimetype": "text/x-python",
   "name": "python",
   "nbconvert_exporter": "python",
   "pygments_lexer": "ipython3",
   "version": "3.6.3"
  }
 },
 "nbformat": 4,
 "nbformat_minor": 2
}
